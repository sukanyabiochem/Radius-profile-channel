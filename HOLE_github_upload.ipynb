{
 "cells": [
  {
   "cell_type": "code",
   "execution_count": 1,
   "id": "aa7044e8",
   "metadata": {},
   "outputs": [],
   "source": [
    "import MDAnalysis as mda\n",
    "from MDAnalysis.tests.datafiles import PSF, DCD\n",
    "from MDAnalysis.analysis import hole2\n",
    "import matplotlib.pyplot as plt\n",
    "import numpy as np\n",
    "%matplotlib inline\n",
    "import pandas as pd"
   ]
  },
  {
   "cell_type": "code",
   "execution_count": null,
   "id": "7b521ce3",
   "metadata": {},
   "outputs": [],
   "source": [
    "u = mda.Universe(\"files/07_equil_74_ions_sodium.psf\", [\"NPT_run/01.dcd\", \"NPT_run/02.dcd\", \"NPT_run/03.dcd\", \"NPT_run/04.dcd\"], in_memory=True, in_memory_step=100)"
   ]
  },
  {
   "cell_type": "code",
   "execution_count": null,
   "id": "51b941bb",
   "metadata": {},
   "outputs": [],
   "source": [
    "ha = hole2.HoleAnalysis(u, select='protein', cpoint= [-1.6432, 21.024, -1.827], cvect= [1,0,0], executable='/Users/sukanyakonar/Downloads/hole2-master/exe/hole', sample=0.2, end_radius=22.0, vdwradii_file=None)\n",
    "ha.run(random_seed=31415)"
   ]
  },
  {
   "cell_type": "code",
   "execution_count": null,
   "id": "99342a1d",
   "metadata": {},
   "outputs": [],
   "source": [
    "gathered = ha.gather()\n",
    "print(gathered.keys())\n",
    "print(len(gathered['rxn_coord']))"
   ]
  },
  {
   "cell_type": "code",
   "execution_count": null,
   "id": "2df70a26",
   "metadata": {},
   "outputs": [],
   "source": [
    "flat = ha.gather(flat=True)\n",
    "print(len(flat['rxn_coord']))"
   ]
  },
  {
   "cell_type": "code",
   "execution_count": null,
   "id": "b6b80c6f",
   "metadata": {},
   "outputs": [],
   "source": [
    "radii, edges = ha.bin_radii(bins=100, range=None)\n",
    "means, edges = ha.histogram_radii(bins=100, range=None, aggregator=np.mean)"
   ]
  },
  {
   "cell_type": "code",
   "execution_count": null,
   "id": "133be776",
   "metadata": {},
   "outputs": [],
   "source": [
    "midpoints = 0.5*(edges[1:]+edges[:-1])\n",
    "plt.plot(midpoints, means)\n",
    "plt.ylabel(r\"Mean HOLE radius $R$ ($\\AA$)\")\n",
    "plt.xlabel(r\"Pore coordinate $\\zeta$ ($\\AA$)\")\n",
    "dat = np.array([midpoints, means])\n",
    "dat = dat.T\n",
    "np.savetxt('data.txt', dat)"
   ]
  },
  {
   "cell_type": "code",
   "execution_count": null,
   "id": "496afaa7",
   "metadata": {},
   "outputs": [],
   "source": [
    "min_radii = ha.min_radius()"
   ]
  },
  {
   "cell_type": "code",
   "execution_count": null,
   "id": "9e95f8c4",
   "metadata": {},
   "outputs": [],
   "source": [
    "fig = plt.figure(1034, figsize=(16,12))\n",
    "#fig, ax = plt.subplots()\n",
    "#ax = fig.add_subplot(111)\n",
    "ax = plt.figure(1034, figsize=(16,12))\n",
    "from pylab import *\n",
    "rc('axes', linewidth=1.5) \n",
    "#ax1.set_xlabel('HOLE radius $R$ ($\\AA$)', fontsize=40, fontname='arial')\n",
    "#ax1.set_ylabel('Pore coordinate $\\zeta$ ($\\AA$)', fontsize=40, fontname='arial')\n",
    "ha.plot_mean_profile(bins=100, range=(-60.0,60.0), n_std=1, color='green', fill_alpha=0.3,legend=True, ax=True, legend_loc='best', linewidth=2.5)\n",
    "plt.axis([-60.0, 60.0, 0, 20.01])\n",
    "plt.ylabel('HOLE radius $R$ ($\\AA$)', fontsize=20, fontname='arial')\n",
    "plt.xlabel('Pore coordinate $\\zeta$ ($\\AA$)', fontsize=20, fontname='arial')\n",
    "plt.yticks(np.arange(2, 20.01, 2), fontname='arial')\n",
    "plt.xticks(np.arange(-60.0, 60.01, 20), fontname='arial')\n",
    "#ax.set_xlim([-40, 40])\n",
    "#ax.xaxis.set_minor_locator(plt.MultipleLocator(10))# set specify ticks label size\n",
    "#ax.yaxis.set_minor_locator(plt.MultipleLocator(2.5))\n",
    "plt.tick_params(axis ='both', which= 'major', labelsize=20, direction='in', length=6, top=0, bottom=1, right=0, left=1, width=2)\n",
    "#ax1.tick_params(axis ='both', which= 'major', left = 'bool', labelsize=20)\n",
    "plt.tick_params(axis ='both', which= 'minor', labelsize=20, direction='in', length=2, bottom = 'bool')\n",
    "#ax1.tick_params(axis='both', which= 'major', bottom = 'bool', labelsize=20 )\n",
    "#ax1.tick_params(axis='both', which= 'minor', bottom = 'bool', labelsize=20, direction='in', length=8)\n",
    "#plt.legend(fontsize=45, bbox_to_anchor=(0.05, 0.40, 0.75, 0.58), edgecolor='white')\n",
    "#ax.ylim([0, 23])\n",
    "#plt.yticks(np.arange(0, 23, 2.5), fontname='arial')\n",
    "plt.savefig('new.jpg', bbox_inches='tight', dpi=500)"
   ]
  },
  {
   "cell_type": "code",
   "execution_count": null,
   "id": "23ba7c32",
   "metadata": {},
   "outputs": [],
   "source": [
    "ha.create_vmd_surface(filename='hole.vmd', dot_density=15, double_water_color='green')"
   ]
  },
  {
   "cell_type": "code",
   "execution_count": null,
   "id": "55cb3ff6",
   "metadata": {},
   "outputs": [],
   "source": [
    "ha.plot3D()\n",
    "plt.savefig('hole.jpg', bbox_inches='tight', dpi=500)"
   ]
  },
  {
   "cell_type": "code",
   "execution_count": null,
   "id": "1311461d",
   "metadata": {},
   "outputs": [],
   "source": [
    "ha.delete_temporary_files()\n",
    "ha.tmp_files"
   ]
  }
 ],
 "metadata": {
  "kernelspec": {
   "display_name": "Python 3 (ipykernel)",
   "language": "python",
   "name": "python3"
  },
  "language_info": {
   "codemirror_mode": {
    "name": "ipython",
    "version": 3
   },
   "file_extension": ".py",
   "mimetype": "text/x-python",
   "name": "python",
   "nbconvert_exporter": "python",
   "pygments_lexer": "ipython3",
   "version": "3.9.9"
  }
 },
 "nbformat": 4,
 "nbformat_minor": 5
}
